{
 "cells": [
  {
   "cell_type": "code",
   "execution_count": 2,
   "metadata": {},
   "outputs": [],
   "source": [
    "import random\n",
    "import copy\n",
    "from keras.layers import Input, Dense, Conv2D, MaxPooling2D, UpSampling2D\n",
    "from keras.models import Model\n",
    "from keras import backend as K\n",
    "import numpy as np\n",
    "import matplotlib.pyplot as plt\n",
    "import os\n",
    "import cv2\n"
   ]
  },
  {
   "cell_type": "code",
   "execution_count": null,
   "metadata": {
    "collapsed": true
   },
   "outputs": [],
   "source": [
    "x_train = []\n",
    "x_val = []\n",
    "x_test = []\n",
    "num_fil = 0\n",
    "num_train = 0\n",
    "num_val = 0\n",
    "dir_path = \"img_align_celeba/\"\n",
    "i = 0\n",
    "for filename in os.listdir(dir_path):\n",
    "    if filename.endswith(\".jpg\"):\n",
    "        i +=1\n",
    "        if i == 10000:\n",
    "            break\n",
    "        num_fil += 1\n",
    "num_train = int(round(num_fil*0.7))\n",
    "print(\"num_train: \" + str(num_train))\n",
    "num_val = int(round((num_fil-num_train)*0.5))\n",
    "print(\"num_val: \" + str(num_val))\n",
    "num_test = int(round(num_fil-num_train-num_val))\n",
    "print(\"num_test: \" + str(num_test))\n",
    "i = 0\n",
    "for filename in os.listdir(dir_path):\n",
    "    if i == 10000:\n",
    "        break\n",
    "    if filename.endswith(\".jpg\"):\n",
    "#         print(\"Yes\")\n",
    "        filepath = dir_path+\"/\"+filename\n",
    "        if i<num_train:\n",
    "            img = cv2.imread(filepath, 1)\n",
    "            img = cv2.resize(img, (64,64))\n",
    "            img = cv2.cvtColor(img, cv2.COLOR_BGR2RGB)\n",
    "            x_train.append(img)\n",
    "        elif i<(num_train+num_val):\n",
    "            img = cv2.imread(filepath, 1)\n",
    "            img = cv2.resize(img, (64,64))\n",
    "            img = cv2.cvtColor(img, cv2.COLOR_BGR2RGB)\n",
    "            x_val.append(img)\n",
    "        elif i<(num_train+num_val+num_train):\n",
    "            img = cv2.imread(filepath, 1)\n",
    "            img = cv2.resize(img, (64,64))\n",
    "            img = cv2.cvtColor(img, cv2.COLOR_BGR2RGB)\n",
    "            x_test.append(img)\n",
    "    i += 1\n",
    "x_train = np.array(x_train)\n",
    "print(\"x_train size: \" + str(len(x_train)))\n",
    "x_val = np.array(x_val)\n",
    "print(\"x_val size: \" + str(len(x_val)))\n",
    "x_test = np.array(x_test)\n",
    "print(\"x_test size: \" + str(len(x_test)))"
   ]
  },
  {
   "cell_type": "code",
   "execution_count": null,
   "metadata": {
    "collapsed": true
   },
   "outputs": [],
   "source": [
    "plt.subplot(1, 2, 1)\n",
    "plt.imshow(x_train[0])\n",
    "plt.subplot(1, 2, 2)\n",
    "plt.imshow(x_val[10])\n",
    "plt.show()"
   ]
  },
  {
   "cell_type": "code",
   "execution_count": null,
   "metadata": {
    "collapsed": true
   },
   "outputs": [],
   "source": [
    "#Normalizing the data \n",
    "max_value = float(x_train.max())\n",
    "x_train = x_train.astype('float32') / max_value\n",
    "x_val = x_val.astype('float32') / max_value\n",
    "x_test = x_test.astype('float32') / max_value\n",
    "\n",
    "x_train = np.reshape(x_train, (len(x_train), 64, 64, 3))\n",
    "x_val = np.reshape(x_val, (len(x_val), 64, 64, 3))\n",
    "x_test = np.reshape(x_test, (len(x_test), 64, 64, 3))"
   ]
  },
  {
   "cell_type": "code",
   "execution_count": null,
   "metadata": {
    "collapsed": true
   },
   "outputs": [],
   "source": [
    "#Model\n",
    "\n",
    "input_img = Input(shape=(64, 64, 3))  # shape of the images that wil be on input\n",
    "\n",
    "x = Conv2D(64, (3, 3), activation='relu', padding='same')(input_img)\n",
    "x = MaxPooling2D((2, 2), padding='same')(x)\n",
    "x = Conv2D(32, (3, 3), activation='relu', padding='same')(x)\n",
    "encoded = MaxPooling2D((2, 2), padding='same')(x)\n",
    "\n",
    "x = Conv2D(32, (3, 3), activation='relu', padding='same')(encoded)\n",
    "x = UpSampling2D((2, 2))(x)\n",
    "x = Conv2D(64, (3, 3), activation='relu', padding='same')(x)\n",
    "x = UpSampling2D((2, 2))(x)\n",
    "decoded = Conv2D(3, (3, 3), activation='sigmoid', padding='same')(x)\n",
    "\n",
    "autoencoder = Model(input_img, decoded)\n",
    "autoencoder.compile(optimizer='adadelta', loss='binary_crossentropy')"
   ]
  },
  {
   "cell_type": "code",
   "execution_count": null,
   "metadata": {
    "collapsed": true
   },
   "outputs": [],
   "source": [
    "#Obfuscating the images\n",
    "\n",
    "stripes_no = 24\n",
    "x_train_inpaint = copy.deepcopy(x_train)\n",
    "x_val_inpaint = copy.deepcopy(x_val)\n",
    "x_test_inpaint = copy.deepcopy(x_test)\n",
    "for i in range(len(x_train_inpaint)):\n",
    "    stripes = random.sample(range(64), stripes_no)\n",
    "    for j in range(len(x_train_inpaint[i])):\n",
    "        if j in stripes:\n",
    "            x_train_inpaint[i][j] = np.zeros((64,1))\n",
    "            \n",
    "for i in range(len(x_val_inpaint)):\n",
    "    stripes = random.sample(range(64), stripes_no)\n",
    "    for j in range(len(x_val_inpaint[i])):\n",
    "        if j in stripes:\n",
    "            x_val_inpaint[i][j] = np.zeros((64,1))\n",
    "\n",
    "for i in range(len(x_test_inpaint)):\n",
    "    stripes = random.sample(range(64), stripes_no)\n",
    "    for j in range(len(x_test_inpaint[i])):\n",
    "        if j in stripes:\n",
    "            x_test_inpaint[i][j] = np.zeros((64,1))"
   ]
  },
  {
   "cell_type": "code",
   "execution_count": null,
   "metadata": {
    "collapsed": true
   },
   "outputs": [],
   "source": [
    "n = 7\n",
    "plt.figure(figsize=(20, 4))\n",
    "for i in range(1,n):\n",
    "    # display original\n",
    "    ax = plt.subplot(2, n, i)\n",
    "    plt.imshow(x_train_inpaint[i].reshape(64, 64, 3))\n",
    "    plt.gray()\n",
    "    ax.get_xaxis().set_visible(False)\n",
    "    ax.get_yaxis().set_visible(False)\n",
    "plt.show()"
   ]
  },
  {
   "cell_type": "code",
   "execution_count": null,
   "metadata": {
    "collapsed": true
   },
   "outputs": [],
   "source": [
    "log = autoencoder.fit(x_train_inpaint, x_train,\n",
    "                epochs=100,\n",
    "                batch_size=256,\n",
    "                shuffle=True,\n",
    "                validation_data=(x_val_inpaint, x_val),\n",
    "                verbose=2)"
   ]
  },
  {
   "cell_type": "code",
   "execution_count": null,
   "metadata": {
    "collapsed": true
   },
   "outputs": [],
   "source": [
    "plt.figure()\n",
    "[plt.plot(v,label=str(k)) for k,v in log.history.items()]\n",
    "plt.legend()\n",
    "plt.show()"
   ]
  },
  {
   "cell_type": "code",
   "execution_count": null,
   "metadata": {
    "collapsed": true
   },
   "outputs": [],
   "source": [
    "decoded_imgs_inpaint = autoencoder.predict(x_test_inpaint)\n",
    "n = 7\n",
    "plt.figure(figsize=(20, 6))\n",
    "for i in range(1,n):\n",
    "    r = random.randint(0,1501)\n",
    "    # display original\n",
    "    ax = plt.subplot(3, n, i)\n",
    "    plt.imshow(x_test[r].reshape(64, 64, 3))\n",
    "    plt.gray()\n",
    "    ax.get_xaxis().set_visible(False)\n",
    "    ax.get_yaxis().set_visible(False)\n",
    "    # display noisy\n",
    "    ax = plt.subplot(3, n, i+n)\n",
    "    plt.imshow(x_test_inpaint[r].reshape(64, 64, 3))\n",
    "    plt.gray()\n",
    "    ax.get_xaxis().set_visible(False)\n",
    "    ax.get_yaxis().set_visible(False)\n",
    "\n",
    "    # display reconstruction\n",
    "    ax = plt.subplot(3, n, i +n+ n)\n",
    "    plt.imshow(decoded_imgs_inpaint[r].reshape(64, 64, 3))\n",
    "    plt.gray()\n",
    "    ax.get_xaxis().set_visible(False)\n",
    "    ax.get_yaxis().set_visible(False)\n",
    "    \n",
    "plt.show()"
   ]
  }
 ],
 "metadata": {
  "kernelspec": {
   "display_name": "Python 3",
   "language": "python",
   "name": "python3"
  },
  "language_info": {
   "codemirror_mode": {
    "name": "ipython",
    "version": 3
   },
   "file_extension": ".py",
   "mimetype": "text/x-python",
   "name": "python",
   "nbconvert_exporter": "python",
   "pygments_lexer": "ipython3",
   "version": "3.6.8"
  }
 },
 "nbformat": 4,
 "nbformat_minor": 2
}
